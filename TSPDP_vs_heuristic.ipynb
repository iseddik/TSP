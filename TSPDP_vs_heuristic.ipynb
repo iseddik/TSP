{
  "nbformat": 4,
  "nbformat_minor": 0,
  "metadata": {
    "colab": {
      "provenance": []
    },
    "kernelspec": {
      "name": "python3",
      "display_name": "Python 3"
    },
    "language_info": {
      "name": "python"
    }
  },
  "cells": [
    {
      "cell_type": "code",
      "execution_count": 69,
      "metadata": {
        "id": "Rrfo8Guc6Nly"
      },
      "outputs": [],
      "source": [
        "import random\n",
        "import numpy as np\n",
        "import threading\n",
        "import time\n",
        "import matplotlib.pyplot as plt\n",
        "from tqdm import tqdm"
      ]
    },
    {
      "cell_type": "code",
      "source": [
        "class TSPSolver:\n",
        "    def __init__(self, distances, start_city):\n",
        "        self.distances = distances\n",
        "        self.num_cities = len(distances)\n",
        "        self.num_threads = min(self.num_cities, 4)\n",
        "        self.start_city = start_city\n",
        "\n",
        "    def solve_tsp(self):\n",
        "        self.best_tour = None\n",
        "        self.best_length = float('inf')\n",
        "        self.lock = threading.Lock()\n",
        "\n",
        "        self.solve_tsp_from_start()\n",
        "\n",
        "    def solve_tsp_from_start(self):\n",
        "        visited = [False] * self.num_cities\n",
        "        tour = [self.start_city]\n",
        "        visited[self.start_city] = True\n",
        "        self.tsp_recursive(1, self.start_city, tour, visited)\n",
        "\n",
        "    def tsp_recursive(self, depth, current_city, tour, visited):\n",
        "        if depth == self.num_cities:\n",
        "            length = self.calculate_tour_length(tour)\n",
        "            with self.lock:\n",
        "                if length < self.best_length:\n",
        "                    self.best_length = length\n",
        "                    self.best_tour = tour.copy()\n",
        "            return\n",
        "\n",
        "        for next_city in range(self.num_cities):\n",
        "            if not visited[next_city]:\n",
        "                visited[next_city] = True\n",
        "                tour.append(next_city)\n",
        "                self.tsp_recursive(depth + 1, next_city, tour, visited)\n",
        "                tour.pop()\n",
        "                visited[next_city] = False\n",
        "\n",
        "    def calculate_tour_length(self, tour):\n",
        "        length = 0\n",
        "        for i in range(self.num_cities - 1):\n",
        "            length += self.distances[tour[i]][tour[i + 1]]\n",
        "        length += self.distances[tour[-1]][tour[0]]\n",
        "        return length"
      ],
      "metadata": {
        "id": "XsTgJg0MQSOL"
      },
      "execution_count": 97,
      "outputs": []
    },
    {
      "cell_type": "code",
      "source": [
        "class TSPSolverWithThreads:\n",
        "    def __init__(self, distances, start_city):\n",
        "        self.distances = distances\n",
        "        self.num_cities = len(distances)\n",
        "        self.num_threads = min(self.num_cities, 4)\n",
        "        self.start_city = start_city\n",
        "\n",
        "    def solve_tsp(self):\n",
        "        self.best_tour = None\n",
        "        self.best_length = float('inf')\n",
        "        self.lock = threading.Lock()\n",
        "\n",
        "\n",
        "        for start_city in range(self.num_cities):\n",
        "            thread = threading.Thread(target=self.solve_tsp_from_start)\n",
        "            thread.start()\n",
        "\n",
        "    def solve_tsp_from_start(self):\n",
        "        visited = [False] * self.num_cities\n",
        "        tour = [self.start_city]\n",
        "        visited[self.start_city] = True\n",
        "        self.tsp_recursive(1, self.start_city, tour, visited)\n",
        "\n",
        "    def tsp_recursive(self, depth, current_city, tour, visited):\n",
        "        if depth == self.num_cities:\n",
        "            length = self.calculate_tour_length(tour)\n",
        "            with self.lock:\n",
        "                if length < self.best_length:\n",
        "                    self.best_length = length\n",
        "                    self.best_tour = tour.copy()\n",
        "            return\n",
        "\n",
        "        for next_city in range(self.num_cities):\n",
        "            if not visited[next_city]:\n",
        "                visited[next_city] = True\n",
        "                tour.append(next_city)\n",
        "                self.tsp_recursive(depth + 1, next_city, tour, visited)\n",
        "                tour.pop()\n",
        "                visited[next_city] = False\n",
        "\n",
        "    def calculate_tour_length(self, tour):\n",
        "        length = 0\n",
        "        for i in range(self.num_cities - 1):\n",
        "            length += self.distances[tour[i]][tour[i + 1]]\n",
        "        length += self.distances[tour[-1]][tour[0]]\n",
        "        return length"
      ],
      "metadata": {
        "id": "r-Kn1Z2u7hd8"
      },
      "execution_count": 98,
      "outputs": []
    },
    {
      "cell_type": "code",
      "source": [
        "class NearestNeighborHeuristic:\n",
        "    def __init__(self, distances, start_city):\n",
        "        self.distances = distances\n",
        "        self.num_cities = len(distances)\n",
        "        self.start_city = start_city\n",
        "        self.tour = [start_city]\n",
        "        self.unvisited_cities = set(range(self.num_cities))\n",
        "        self.unvisited_cities.remove(start_city)\n",
        "\n",
        "    def generate_tour(self):\n",
        "        total_cost = 0\n",
        "        while self.unvisited_cities:\n",
        "            nearest_city = min(self.unvisited_cities, key=lambda city: self.distances[self.tour[-1]][city])\n",
        "            total_cost += self.distances[self.tour[-1]][nearest_city]\n",
        "            self.tour.append(nearest_city)\n",
        "            self.unvisited_cities.remove(nearest_city)\n",
        "\n",
        "        total_cost += self.distances[self.tour[-1]][self.start_city]\n",
        "        return self.tour, total_cost"
      ],
      "metadata": {
        "id": "CvfAu9C57Jor"
      },
      "execution_count": 99,
      "outputs": []
    },
    {
      "cell_type": "code",
      "source": [
        "num_cities = 6\n",
        "start_city = 0\n",
        "\n",
        "lower_triangle = np.random.randint(1, 20, size=(num_cities, num_cities))\n",
        "np.fill_diagonal(lower_triangle, 0)\n",
        "SM = lower_triangle + lower_triangle.T - np.diag(lower_triangle.diagonal())\n",
        "\n",
        "print(\"Generated Symmetric Matrix:\")\n",
        "print(SM)"
      ],
      "metadata": {
        "colab": {
          "base_uri": "https://localhost:8080/"
        },
        "id": "2iF3jQDi86dd",
        "outputId": "c69a2df0-239f-452e-c198-0bb8b033f56f"
      },
      "execution_count": 100,
      "outputs": [
        {
          "output_type": "stream",
          "name": "stdout",
          "text": [
            "Generated Symmetric Matrix:\n",
            "[[ 0 13  9  9 36 10]\n",
            " [13  0  7 18 10 24]\n",
            " [ 9  7  0 18 28 32]\n",
            " [ 9 18 18  0 20 18]\n",
            " [36 10 28 20  0 23]\n",
            " [10 24 32 18 23  0]]\n"
          ]
        }
      ]
    },
    {
      "cell_type": "code",
      "source": [
        "nnh = NearestNeighborHeuristic(SM, start_city)\n",
        "sol = nnh.generate_tour()\n",
        "print(\"Best tour:\", sol[0])\n",
        "print(\"Length of best tour:\", sol[1])"
      ],
      "metadata": {
        "colab": {
          "base_uri": "https://localhost:8080/"
        },
        "id": "FZsFYrGR7R4I",
        "outputId": "71082cbb-3c81-49e2-cff0-bbeca4d1f2ac"
      },
      "execution_count": 101,
      "outputs": [
        {
          "output_type": "stream",
          "name": "stdout",
          "text": [
            "Best tour: [0, 2, 1, 4, 3, 5]\n",
            "Length of best tour: 74\n"
          ]
        }
      ]
    },
    {
      "cell_type": "code",
      "source": [
        "solver = TSPSolver(SM, start_city)\n",
        "solver.solve_tsp()\n",
        "print(\"Best tour:\", solver.best_tour)\n",
        "print(\"Length of best tour:\", solver.best_length)"
      ],
      "metadata": {
        "colab": {
          "base_uri": "https://localhost:8080/"
        },
        "id": "Ljn94ByG7dX_",
        "outputId": "bb309d87-a1b8-4088-9149-d0b4f3c2c291"
      },
      "execution_count": 102,
      "outputs": [
        {
          "output_type": "stream",
          "name": "stdout",
          "text": [
            "Best tour: [0, 2, 1, 4, 3, 5]\n",
            "Length of best tour: 74\n"
          ]
        }
      ]
    },
    {
      "cell_type": "code",
      "source": [
        "%time\n",
        "tours1 = []\n",
        "scores1 = []\n",
        "duration1 = []\n",
        "\n",
        "tours2 = []\n",
        "scores2 = []\n",
        "duration2 = []\n",
        "N_cities = []\n",
        "start_city = 0\n",
        "\n",
        "for i in tqdm(range(1, 11)):\n",
        "  num_cities = i\n",
        "  N_cities.append(num_cities)\n",
        "\n",
        "  lower_triangle = np.random.randint(1, 20, size=(num_cities, num_cities))\n",
        "  np.fill_diagonal(lower_triangle, 0)\n",
        "  SM = lower_triangle + lower_triangle.T - np.diag(lower_triangle.diagonal())\n",
        "\n",
        "  start = time.time()\n",
        "  nnh = NearestNeighborHeuristic(SM, start_city)\n",
        "  sol = nnh.generate_tour()\n",
        "  end = time.time()\n",
        "\n",
        "  tours1.append(sol[0])\n",
        "  scores1.append(sol[1])\n",
        "  duration1.append('{:.6f}'.format(end - start))\n",
        "\n",
        "  start = time.time()\n",
        "  solver = TSPSolver(SM, start_city)\n",
        "  solver.solve_tsp()\n",
        "  end = time.time()\n",
        "\n",
        "  tours2.append(solver.best_tour)\n",
        "  scores2.append(solver.best_length)\n",
        "  duration2.append('{:.6f}'.format(end - start))"
      ],
      "metadata": {
        "colab": {
          "base_uri": "https://localhost:8080/"
        },
        "id": "7SHxLGnDAnHt",
        "outputId": "081d6068-d456-4ace-90c8-ca6c3629b889"
      },
      "execution_count": 82,
      "outputs": [
        {
          "output_type": "stream",
          "name": "stdout",
          "text": [
            "CPU times: user 55 µs, sys: 7 µs, total: 62 µs\n",
            "Wall time: 122 µs\n"
          ]
        },
        {
          "output_type": "stream",
          "name": "stderr",
          "text": [
            "100%|██████████| 10/10 [00:07<00:00,  1.37it/s]\n"
          ]
        }
      ]
    },
    {
      "cell_type": "code",
      "source": [
        "print(scores1)\n",
        "print(scores2)"
      ],
      "metadata": {
        "colab": {
          "base_uri": "https://localhost:8080/"
        },
        "id": "6-R5BsOkCc0_",
        "outputId": "4069bfc1-d7cf-43bc-e536-783c897cc5ac"
      },
      "execution_count": 83,
      "outputs": [
        {
          "output_type": "stream",
          "name": "stdout",
          "text": [
            "[0, 36, 62, 76, 88, 129, 78, 129, 129, 119]\n",
            "[0, 36, 62, 76, 81, 115, 77, 105, 119, 104]\n"
          ]
        }
      ]
    },
    {
      "cell_type": "code",
      "source": [
        "print(duration1)\n",
        "print(duration2)"
      ],
      "metadata": {
        "colab": {
          "base_uri": "https://localhost:8080/"
        },
        "id": "c4YHIgldFRyo",
        "outputId": "aadb2782-2426-4e31-8c97-8a5b41fd8376"
      },
      "execution_count": 84,
      "outputs": [
        {
          "output_type": "stream",
          "name": "stdout",
          "text": [
            "['0.000026', '0.000025', '0.000023', '0.000028', '0.000031', '0.000038', '0.000049', '0.000070', '0.000089', '0.000082']\n",
            "['0.000072', '0.000035', '0.000039', '0.000067', '0.000229', '0.001052', '0.036188', '0.411077', '3.333422', '3.421111']\n"
          ]
        }
      ]
    },
    {
      "cell_type": "code",
      "source": [
        "list1 = np.array([float(item) for item in scores1])\n",
        "list2 = np.array([float(item) for item in scores2])\n",
        "\n",
        "bar_width = 0.35  # Width of the bars\n",
        "index = np.arange(len(N_cities))  # Index for the x-axis\n",
        "\n",
        "plt.grid()\n",
        "plt.bar(index, list1, bar_width, label='NNH', color=\"#FF9999\")\n",
        "plt.bar(index + bar_width, list2, bar_width, label='TSPDP', color=\"#99FF99\")\n",
        "plt.xlabel('Cities')\n",
        "plt.ylabel('Score')\n",
        "plt.title('Scores TSPDP vs NNH')\n",
        "plt.xticks(index + bar_width / 2, N_cities)  # Centering x ticks\n",
        "plt.legend()\n",
        "plt.savefig(\"scores.png\", transparent=True)\n",
        "plt.show()"
      ],
      "metadata": {
        "colab": {
          "base_uri": "https://localhost:8080/",
          "height": 472
        },
        "id": "POisv9u-F5WY",
        "outputId": "8e943606-7d35-4c3e-938d-ee608efac49c"
      },
      "execution_count": 92,
      "outputs": [
        {
          "output_type": "display_data",
          "data": {
            "text/plain": [
              "<Figure size 640x480 with 1 Axes>"
            ],
            "image/png": "[encoded data removed]"
          },
          "metadata": {}
        }
      ]
    },
    {
      "cell_type": "code",
      "source": [
        "list1 = np.array([float(item) for item in duration1])\n",
        "list2 = np.array([float(item) for item in duration2])\n",
        "\n",
        "plt.grid()\n",
        "plt.plot(N_cities, list1, label='NNH', color=\"#99FF99\")\n",
        "plt.plot(N_cities, list2, label='TSPDP', color=\"#FF9999\")\n",
        "plt.xlabel('Cities')\n",
        "plt.ylabel('Duration')\n",
        "plt.title('Duration TSPDP vs NNH')\n",
        "plt.legend()\n",
        "plt.savefig(\"duration.png\", transparent=True)\n",
        "plt.show()"
      ],
      "metadata": {
        "colab": {
          "base_uri": "https://localhost:8080/",
          "height": 472
        },
        "id": "7S63YI1hGdeJ",
        "outputId": "06258c1e-cd54-4d7b-c94d-c5bb6f71e0ab"
      },
      "execution_count": 96,
      "outputs": [
        {
          "output_type": "display_data",
          "data": {
            "text/plain": [
              "<Figure size 640x480 with 1 Axes>"
            ],
            "image/png": "[encoded data removed]"
          },
          "metadata": {}
        }
      ]
    },
    {
      "cell_type": "code",
      "source": [
        "%time\n",
        "tours1 = []\n",
        "scores1 = []\n",
        "duration1 = []\n",
        "\n",
        "tours2 = []\n",
        "scores2 = []\n",
        "duration2 = []\n",
        "N_cities = []\n",
        "start_city = 0\n",
        "\n",
        "for i in tqdm(range(1, 12)):\n",
        "  num_cities = i\n",
        "  N_cities.append(num_cities)\n",
        "\n",
        "  lower_triangle = np.random.randint(1, 20, size=(num_cities, num_cities))\n",
        "  np.fill_diagonal(lower_triangle, 0)\n",
        "  SM = lower_triangle + lower_triangle.T - np.diag(lower_triangle.diagonal())\n",
        "\n",
        "  start = time.time()\n",
        "  solver = TSPSolver(SM, start_city)\n",
        "  solver.solve_tsp()\n",
        "  end = time.time()\n",
        "\n",
        "  tours1.append(solver.best_tour)\n",
        "  scores1.append(solver.best_length)\n",
        "  duration1.append('{:.6f}'.format(end - start))\n",
        "\n",
        "  start = time.time()\n",
        "  solver = TSPSolverWithThreads(SM, start_city)\n",
        "  solver.solve_tsp()\n",
        "  end = time.time()\n",
        "\n",
        "  tours2.append(solver.best_tour)\n",
        "  scores2.append(solver.best_length)\n",
        "  duration2.append('{:.6f}'.format(end - start))"
      ],
      "metadata": {
        "colab": {
          "base_uri": "https://localhost:8080/"
        },
        "id": "41Byx3iFPXvH",
        "outputId": "107d73e0-4e04-46f9-ea8b-bbf782465848"
      },
      "execution_count": 104,
      "outputs": [
        {
          "output_type": "stream",
          "name": "stdout",
          "text": [
            "CPU times: user 0 ns, sys: 83 µs, total: 83 µs\n",
            "Wall time: 161 µs\n"
          ]
        },
        {
          "output_type": "stream",
          "name": "stderr",
          "text": [
            "100%|██████████| 11/11 [00:51<00:00,  4.70s/it]\n"
          ]
        }
      ]
    },
    {
      "cell_type": "code",
      "source": [
        "list1 = np.array([float(item) for item in duration1])\n",
        "list2 = np.array([float(item) for item in duration2])\n",
        "\n",
        "plt.grid()\n",
        "plt.plot(N_cities, list1, label='TSPDP', color=\"#FF9999\")\n",
        "plt.plot(N_cities, list2, label='TSPDPThreads', color=\"#99FF99\")\n",
        "plt.xlabel('Cities')\n",
        "plt.ylabel('Duration')\n",
        "plt.title('Duration TSPDP vs TSPDPThreads')\n",
        "plt.legend()\n",
        "plt.savefig(\"durationThreads.png\", transparent=True)\n",
        "plt.show()"
      ],
      "metadata": {
        "colab": {
          "base_uri": "https://localhost:8080/",
          "height": 472
        },
        "id": "beTDbCgtRRzS",
        "outputId": "5e6116a3-e574-4e55-a651-6ac475578d0f"
      },
      "execution_count": 107,
      "outputs": [
        {
          "output_type": "display_data",
          "data": {
            "text/plain": [
              "<Figure size 640x480 with 1 Axes>"
            ],
            "image/png": "[encoded data removed]"
          },
          "metadata": {}
        }
      ]
    },
    {
      "cell_type": "code",
      "source": [
        "print(scores1)\n",
        "print(scores2)"
      ],
      "metadata": {
        "colab": {
          "base_uri": "https://localhost:8080/"
        },
        "id": "PDPaoqNpTGNk",
        "outputId": "f1709c14-ea97-481e-a6c5-caf868c158b6"
      },
      "execution_count": 108,
      "outputs": [
        {
          "output_type": "stream",
          "name": "stdout",
          "text": [
            "[0, 56, 47, 73, 101, 89, 78, 127, 99, 115, 132]\n",
            "[0, 56, 47, 73, 101, 89, 78, 127, 114, 158, 139]\n"
          ]
        }
      ]
    },
    {
      "cell_type": "code",
      "source": [],
      "metadata": {
        "id": "t3xEYubBTn-a"
      },
      "execution_count": null,
      "outputs": []
    }
  ]
}